{
 "cells": [
  {
   "cell_type": "markdown",
   "metadata": {},
   "source": [
    "# Using EKF tweaks with Sigma Point Kalman Filters\n",
    "\n",
    "In Sigma Point Kalman Filters (SPKF, see [**[Merwe2004]**](#merwe)) Weighted Statistical Linear Regression technique is used to approximate nonlinear process and measurement functions:\n",
    "\n",
    "$\\mathbf{y} = g(\\mathbf{x}) = \\mathbf{A} \\mathbf{x} + \\mathbf{b} + \\mathbf{e}$,\n",
    "\n",
    "$\\mathbf{P}_{ee} = \\mathbf{P}_{yy} - \\mathbf{A} \\mathbf{P}_{xx} \\mathbf{A}^{\\top}$\n",
    "\n",
    "where: \n",
    "\n",
    "$\\mathbf{e}$ is an approximation error, \n",
    "\n",
    "$\\mathbf{A} = \\mathbf{P}_{xy}^{\\top} \\mathbf{P}_{xx}^{-1}$, \n",
    "\n",
    "$\\mathbf{b} = \\mathbf{\\bar{y}} - \\mathbf{A} \\mathbf{\\bar{x}}$,\n",
    "\n",
    "$\\mathbf{P}_{xx} = \\displaystyle\\sum_{i} {w}_{ci} \\left( \\mathbf{\\chi}_{i} - \\mathbf{\\bar{x}} \\right) \\left( \\mathbf{\\chi}_{i} - \\mathbf{\\bar{x}} \\right)$,\n",
    "\n",
    "$\\mathbf{P}_{yy} = \\displaystyle\\sum_{i} {w}_{ci} \\left( \\mathbf{\\gamma}_{i} - \\mathbf{\\bar{y}} \\right) \\left( \\mathbf{\\gamma}_{i} - \\mathbf{\\bar{y}} \\right)$,\n",
    "\n",
    "$\\mathbf{P}_{xy} = \\displaystyle\\sum_{i} {w}_{ci} \\left( \\mathbf{\\chi}_{i} - \\mathbf{\\bar{x}} \\right) \\left( \\mathbf{\\gamma}_{i} - \\mathbf{\\bar{y}} \\right)$,\n",
    "\n",
    "$\\mathbf{\\gamma}_{i} = g(\\mathbf{\\chi}_{i})$\n",
    "\n",
    "$\\mathbf{\\bar{x}} = \\displaystyle\\sum_{i} {w}_{mi} \\mathbf{\\chi}_{i}$,\n",
    "\n",
    "$\\mathbf{\\bar{y}} = \\displaystyle\\sum_{i} {w}_{mi} \\mathbf{\\gamma}_{i}$,\n",
    "\n",
    "${w}_{ci}$ are covariation weghts, ${w}_{mi}$ are mean weights.\n",
    "\n",
    "This means that approximation errors of measurements may be treated as a part of additive noise and so we show that in SPKF we can use the following approximation of $\\mathbf{S}_{k}$:\n",
    "\n",
    "$\\mathbf{S}_{k} = \\mathbf{H}_{k} \\mathbf{P}_{k|k-1} \\mathbf{H}_{k}^{\\top} + \\mathbf{\\tilde{R}}_{k}$, \n",
    "\n",
    "where \n",
    "\n",
    "$\\mathbf{H}_{k} = \\mathbf{P}_{xz, k}^{\\top} \\mathbf{P}_{xx, k}^{-1}$,\n",
    "\n",
    "$\\mathbf{\\tilde{R}}_{k} = \\mathbf{R}_{k} + \\mathbf{P}_{ee, k}$,\n",
    "\n",
    "this enables us to use some EKF tricks such as adaptive correction or generalized linear models with SPKF."
   ]
  },
  {
   "cell_type": "markdown",
   "metadata": {},
   "source": [
    "# References\n",
    "\n",
    "<a name=\"merwe\"></a>**\\[Merwe2004\\]** R. van der Merwe, \"Sigma-Point Kalman Filters for ProbabilisticInference in Dynamic State-Space Models\",  PhD Thesis, OGI School of Science & Engineering, Oregon Health & Science University, USA"
   ]
  },
  {
   "cell_type": "markdown",
   "metadata": {},
   "source": []
  }
 ],
 "metadata": {
  "kernelspec": {
   "display_name": "Python 3",
   "language": "python",
   "name": "python3"
  },
  "language_info": {
   "codemirror_mode": {
    "name": "ipython",
    "version": 3
   },
   "file_extension": ".py",
   "mimetype": "text/x-python",
   "name": "python",
   "nbconvert_exporter": "python",
   "pygments_lexer": "ipython3",
   "version": "3.6.12"
  }
 },
 "nbformat": 4,
 "nbformat_minor": 4
}
